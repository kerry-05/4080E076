{
  "nbformat": 4,
  "nbformat_minor": 0,
  "metadata": {
    "colab": {
      "name": "“Python_1_IO.ipynb",
      "provenance": [],
      "collapsed_sections": [],
      "include_colab_link": true
    },
    "kernelspec": {
      "name": "python3",
      "display_name": "Python 3"
    }
  },
  "cells": [
    {
      "cell_type": "markdown",
      "metadata": {
        "id": "view-in-github",
        "colab_type": "text"
      },
      "source": [
        "<a href=\"https://colab.research.google.com/github/kerry-05/4080E076/blob/master/%E2%80%9CPython_1_IO.ipynb\" target=\"_parent\"><img src=\"https://colab.research.google.com/assets/colab-badge.svg\" alt=\"Open In Colab\"/></a>"
      ]
    },
    {
      "cell_type": "markdown",
      "metadata": {
        "id": "48oJM4EnY7co",
        "colab_type": "text"
      },
      "source": [
        "# 輸入與輸出(Input and Output)2019.09.19\n",
        "\n",
        "單元學習目標:\n",
        "\n",
        "python輸入:input(), raw_input()                  \n",
        "\n",
        "python輸出: print() \n",
        "\n",
        "python格式化輸出技術  老師說的很重要"
      ]
    },
    {
      "cell_type": "markdown",
      "metadata": {
        "id": "ZWjgByXmaFnm",
        "colab_type": "text"
      },
      "source": [
        "## 基本輸入:讀取使用者的輸入\n",
        "```\n",
        "使用input時，會從標準輸入(stdin)中讀取輸入資料\n",
        "這些資料是string字串型態{重要}\n",
        "```\n",
        "\n",
        "stdin==Standard Input"
      ]
    },
    {
      "cell_type": "code",
      "metadata": {
        "id": "ijngqghocdMi",
        "colab_type": "code",
        "outputId": "179e49cb-23d7-4066-88f8-0e597c0d6efe",
        "colab": {
          "base_uri": "https://localhost:8080/",
          "height": 51
        }
      },
      "source": [
        "x = input('Enter your name:')\n",
        "print('哈喽, ' + x)"
      ],
      "execution_count": 10,
      "outputs": [
        {
          "output_type": "stream",
          "text": [
            "Enter your name:凱瑞\n",
            "哈喽, 凱瑞\n"
          ],
          "name": "stdout"
        }
      ]
    },
    {
      "cell_type": "code",
      "metadata": {
        "id": "30xXufkLaCmw",
        "colab_type": "code",
        "outputId": "36164f50-505e-422b-9392-19b6d03686c2",
        "colab": {
          "base_uri": "https://localhost:8080/",
          "height": 51
        }
      },
      "source": [
        "a = input(\"請輸入：\")\n",
        "a"
      ],
      "execution_count": 2,
      "outputs": [
        {
          "output_type": "stream",
          "text": [
            "請輸入：538\n"
          ],
          "name": "stdout"
        },
        {
          "output_type": "execute_result",
          "data": {
            "text/plain": [
              "'538'"
            ]
          },
          "metadata": {
            "tags": []
          },
          "execution_count": 2
        }
      ]
    },
    {
      "cell_type": "markdown",
      "metadata": {
        "id": "1SD7O0o7ctjF",
        "colab_type": "text"
      },
      "source": [
        "###  Python內建的type()函數可以顯示資料型態"
      ]
    },
    {
      "cell_type": "markdown",
      "metadata": {
        "id": "ZKPPA0vWQOTx",
        "colab_type": "text"
      },
      "source": [
        "str=string=字串資料型態"
      ]
    },
    {
      "cell_type": "code",
      "metadata": {
        "id": "pF9kFc3TaSqq",
        "colab_type": "code",
        "outputId": "d04f5da5-dff2-4845-f29b-413f9490b218",
        "colab": {
          "base_uri": "https://localhost:8080/",
          "height": 34
        }
      },
      "source": [
        "type(a)"
      ],
      "execution_count": 26,
      "outputs": [
        {
          "output_type": "execute_result",
          "data": {
            "text/plain": [
              "str"
            ]
          },
          "metadata": {
            "tags": []
          },
          "execution_count": 26
        }
      ]
    },
    {
      "cell_type": "markdown",
      "metadata": {
        "id": "3gqt8RrVc9UW",
        "colab_type": "text"
      },
      "source": [
        "### 錯誤的做法：請指出底下程式的錯誤"
      ]
    },
    {
      "cell_type": "markdown",
      "metadata": {
        "id": "98rpfVSpQqlS",
        "colab_type": "text"
      },
      "source": [
        "TypeError\n",
        "type= 資料型態=data type"
      ]
    },
    {
      "cell_type": "code",
      "metadata": {
        "id": "iKzh0Ml7Z5Bl",
        "colab_type": "code",
        "colab": {}
      },
      "source": [
        "a =input(\"請輸入：\")\n",
        "a\n",
        "b=a+1\n",
        "b"
      ],
      "execution_count": 0,
      "outputs": []
    },
    {
      "cell_type": "markdown",
      "metadata": {
        "id": "7W0HURAya60W",
        "colab_type": "text"
      },
      "source": [
        "## 基本輸入:讀取使用者輸入的整數\n",
        "\n",
        "使用eval()函數"
      ]
    },
    {
      "cell_type": "code",
      "metadata": {
        "id": "I-bbsfCJbTbk",
        "colab_type": "code",
        "outputId": "8f363c6f-f75b-4821-b3e4-5c6e1c41dd40",
        "colab": {
          "base_uri": "https://localhost:8080/",
          "height": 51
        }
      },
      "source": [
        "a = eval(input(\"請輸入：\"))\n",
        "a\n",
        "b=a+1\n",
        "b"
      ],
      "execution_count": 14,
      "outputs": [
        {
          "output_type": "stream",
          "text": [
            "請輸入：100\n"
          ],
          "name": "stdout"
        },
        {
          "output_type": "execute_result",
          "data": {
            "text/plain": [
              "101"
            ]
          },
          "metadata": {
            "tags": []
          },
          "execution_count": 14
        }
      ]
    },
    {
      "cell_type": "code",
      "metadata": {
        "id": "8PjXBoZNbiyp",
        "colab_type": "code",
        "outputId": "da1cfe72-31e9-4fb1-b769-d8a868eb193a",
        "colab": {
          "base_uri": "https://localhost:8080/",
          "height": 34
        }
      },
      "source": [
        "b=a+1\n",
        "b"
      ],
      "execution_count": 0,
      "outputs": [
        {
          "output_type": "execute_result",
          "data": {
            "text/plain": [
              "101"
            ]
          },
          "metadata": {
            "tags": []
          },
          "execution_count": 12
        }
      ]
    },
    {
      "cell_type": "markdown",
      "metadata": {
        "id": "3s9vlMhfbuzR",
        "colab_type": "text"
      },
      "source": [
        "## 超級重要:可以一次輸入多（兩）個資料\n"
      ]
    },
    {
      "cell_type": "code",
      "metadata": {
        "id": "VkgFCFQbbvsL",
        "colab_type": "code",
        "outputId": "3c6e48e5-0c44-45b6-f505-b4d2b407e158",
        "colab": {
          "base_uri": "https://localhost:8080/",
          "height": 51
        }
      },
      "source": [
        "a,b = eval(input(\"請輸入兩個數位：\"))\n",
        "a,b"
      ],
      "execution_count": 0,
      "outputs": [
        {
          "output_type": "stream",
          "text": [
            "請輸入兩個數位：12,23\n"
          ],
          "name": "stdout"
        },
        {
          "output_type": "execute_result",
          "data": {
            "text/plain": [
              "(12, 23)"
            ]
          },
          "metadata": {
            "tags": []
          },
          "execution_count": 14
        }
      ]
    },
    {
      "cell_type": "markdown",
      "metadata": {
        "id": "xQnUFmw6e3Pv",
        "colab_type": "text"
      },
      "source": [
        "### 高階技巧:"
      ]
    },
    {
      "cell_type": "code",
      "metadata": {
        "id": "-SB2rXihemQJ",
        "colab_type": "code",
        "outputId": "f9b01bf9-e91b-4a4b-d19d-23a891ccf9e3",
        "colab": {
          "base_uri": "https://localhost:8080/",
          "height": 103
        }
      },
      "source": [
        "x, y, z = [int(x) for x in input(\"Enter three value: \").split()] \n",
        "print(\"First Number is: \", x) \n",
        "print(\"Second Number is: \", y) \n",
        "print(\"Third Number is: \", z) \n",
        "print() "
      ],
      "execution_count": 0,
      "outputs": [
        {
          "output_type": "stream",
          "text": [
            "Enter three value: 2 3 4\n",
            "First Number is:  2\n",
            "Second Number is:  3\n",
            "Third Number is:  4\n",
            "\n"
          ],
          "name": "stdout"
        }
      ]
    },
    {
      "cell_type": "code",
      "metadata": {
        "id": "KFu-WieEfRIO",
        "colab_type": "code",
        "colab": {}
      },
      "source": [
        "x, y, z = [int(x) for x in input(\"Enter three value: \").split(\",\")] \n",
        "print(\"First Number is: \", x) \n",
        "print(\"Second Number is: \", y) \n",
        "print(\"Third Number is: \", z) \n",
        "print()"
      ],
      "execution_count": 0,
      "outputs": []
    },
    {
      "cell_type": "code",
      "metadata": {
        "id": "0jimkUvuf45y",
        "colab_type": "code",
        "outputId": "a90676dd-5b83-4319-9e1f-3f65bf82025c",
        "colab": {
          "base_uri": "https://localhost:8080/",
          "height": 68
        }
      },
      "source": [
        "a, b = input(\"Enter a two value: \").split() \n",
        "print(\"First number is {} and second number is {}\".format(a, b)) \n",
        "print() "
      ],
      "execution_count": 0,
      "outputs": [
        {
          "output_type": "stream",
          "text": [
            "Enter a two value: 1 2\n",
            "First number is 1 and second number is 2\n",
            "\n"
          ],
          "name": "stdout"
        }
      ]
    },
    {
      "cell_type": "code",
      "metadata": {
        "id": "UnNyNCQxijMo",
        "colab_type": "code",
        "outputId": "fd529e70-640c-447c-df1a-d2701f9bb6ce",
        "colab": {
          "base_uri": "https://localhost:8080/",
          "height": 34
        }
      },
      "source": [
        ""
      ],
      "execution_count": 0,
      "outputs": [
        {
          "output_type": "execute_result",
          "data": {
            "text/plain": [
              "'0xff'"
            ]
          },
          "metadata": {
            "tags": []
          },
          "execution_count": 25
        }
      ]
    }
  ]
}