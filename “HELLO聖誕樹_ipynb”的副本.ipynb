{
  "nbformat": 4,
  "nbformat_minor": 0,
  "metadata": {
    "colab": {
      "name": "“HELLO.ipynb”的副本",
      "version": "0.3.2",
      "provenance": [],
      "collapsed_sections": [],
      "include_colab_link": true
    },
    "kernelspec": {
      "name": "python3",
      "display_name": "Python 3"
    }
  },
  "cells": [
    {
      "cell_type": "markdown",
      "metadata": {
        "id": "view-in-github",
        "colab_type": "text"
      },
      "source": [
        "<a href=\"https://colab.research.google.com/github/kerry-05/4080E076/blob/master/%E2%80%9CHELLO%E8%81%96%E8%AA%95%E6%A8%B9_ipynb%E2%80%9D%E7%9A%84%E5%89%AF%E6%9C%AC.ipynb\" target=\"_parent\"><img src=\"https://colab.research.google.com/assets/colab-badge.svg\" alt=\"Open In Colab\"/></a>"
      ]
    },
    {
      "cell_type": "code",
      "metadata": {
        "colab_type": "code",
        "id": "tnYPbH4Glc5T",
        "outputId": "007ee901-5b1e-46e5-d422-1ddd61db095a",
        "colab": {
          "base_uri": "https://localhost:8080/",
          "height": 238
        }
      },
      "source": [
        "print(\"          *\")\n",
        "print(\"         ***\")\n",
        "print(\"        *****\")\n",
        "print(\"       *******\")\n",
        "print(\"      *********\")\n",
        "print(\"     ***********\")\n",
        "print(\"    *************\")\n",
        "print(\"         ***\")\n",
        "print(\"         ***\")\n",
        "print(\"         ***\")\n",
        "print(\"         ***\")\n",
        "print(\"         ***\")\n",
        "print(\"         ***\")"
      ],
      "execution_count": 0,
      "outputs": [
        {
          "output_type": "stream",
          "text": [
            "          *\n",
            "         ***\n",
            "        *****\n",
            "       *******\n",
            "      *********\n",
            "     ***********\n",
            "    *************\n",
            "         ***\n",
            "         ***\n",
            "         ***\n",
            "         ***\n",
            "         ***\n",
            "         ***\n"
          ],
          "name": "stdout"
        }
      ]
    }
  ]
}