{
  "nbformat": 4,
  "nbformat_minor": 0,
  "metadata": {
    "colab": {
      "name": "“HELLO.ipynb”的副本",
      "version": "0.3.2",
      "provenance": [],
      "collapsed_sections": [],
      "include_colab_link": true
    },
    "kernelspec": {
      "name": "python3",
      "display_name": "Python 3"
    }
  },
  "cells": [
    {
      "cell_type": "markdown",
      "metadata": {
        "id": "view-in-github",
        "colab_type": "text"
      },
      "source": [
        "<a href=\"https://colab.research.google.com/github/kerry-05/4080E076/blob/master/%E2%80%9CHELLO_ipynb%E2%80%9D%E7%9A%84%E5%89%AF%E6%9C%AC.ipynb\" target=\"_parent\"><img src=\"https://colab.research.google.com/assets/colab-badge.svg\" alt=\"Open In Colab\"/></a>"
      ]
    },
    {
      "cell_type": "code",
      "metadata": {
        "colab_type": "code",
        "id": "tnYPbH4Glc5T",
        "colab": {
          "base_uri": "https://localhost:8080/",
          "height": 238
        },
        "outputId": "d7a86108-f1ed-4a83-98bd-d71103577a4f"
      },
      "source": [
        "print(\"          *\")\n",
        "print(\"         ***\")\n",
        "print(\"        *****\")\n",
        "print(\"       *******\")\n",
        "print(\"      *********\")\n",
        "print(\"     ***********\")\n",
        "print(\"    *************\")\n",
        "print(\"   ***************\")\n",
        "print(\"  *****************\")\n",
        "print(\"         ***\")\n",
        "print(\"         ***\")\n",
        "print(\"         ***\")\n",
        "print(\"         ***\")"
      ],
      "execution_count": 2,
      "outputs": [
        {
          "output_type": "stream",
          "text": [
            "          *\n",
            "         ***\n",
            "        *****\n",
            "       *******\n",
            "      *********\n",
            "     ***********\n",
            "    *************\n",
            "   ***************\n",
            "  *****************\n",
            "         ***\n",
            "         ***\n",
            "         ***\n",
            "         ***\n"
          ],
          "name": "stdout"
        }
      ]
    }
  ]
}