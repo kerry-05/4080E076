{
  "nbformat": 4,
  "nbformat_minor": 0,
  "metadata": {
    "colab": {
      "name": "“HELLO.ipynb”的副本",
      "version": "0.3.2",
      "provenance": [],
      "collapsed_sections": [],
      "include_colab_link": true
    },
    "kernelspec": {
      "name": "python3",
      "display_name": "Python 3"
    }
  },
  "cells": [
    {
      "cell_type": "markdown",
      "metadata": {
        "id": "view-in-github",
        "colab_type": "text"
      },
      "source": [
        "<a href=\"https://colab.research.google.com/github/kerry-05/4080E076/blob/master/%E2%80%9CHELLO_ipynb%E2%80%9D%E7%9A%84%E5%89%AF%E6%9C%AC.ipynb\" target=\"_parent\"><img src=\"https://colab.research.google.com/assets/colab-badge.svg\" alt=\"Open In Colab\"/></a>"
      ]
    },
    {
      "cell_type": "code",
      "metadata": {
        "colab_type": "code",
        "id": "tnYPbH4Glc5T",
        "colab": {
          "base_uri": "https://localhost:8080/",
          "height": 238
        },
        "outputId": "5a8567c1-d4c5-4909-87d9-0e0b9639262e"
      },
      "source": [
        "print(\"          *\")\n",
        "print(\"         ***\")\n",
        "print(\"        *****\")\n",
        "print(\"       *******\")\n",
        "print(\"      *********\")\n",
        "print(\"     ***********\")\n",
        "print(\"    *************\")\n",
        "print(\"         ***\")\n",
        "print(\"         ***\")\n",
        "print(\"         ***\")\n",
        "print(\"         ***\")\n",
        "print(\"         ***\")\n",
        "print(\"         ***\")"
      ],
      "execution_count": 1,
      "outputs": [
        {
          "output_type": "stream",
          "text": [
            "          *\n",
            "         ***\n",
            "        *****\n",
            "       *******\n",
            "      *********\n",
            "     ***********\n",
            "    *************\n",
            "         ***\n",
            "         ***\n",
            "         ***\n",
            "         ***\n",
            "         ***\n",
            "         ***\n"
          ],
          "name": "stdout"
        }
      ]
    }
  ]
}